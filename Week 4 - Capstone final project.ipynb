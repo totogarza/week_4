{
 "cells": [
  {
   "cell_type": "code",
   "execution_count": 28,
   "metadata": {},
   "outputs": [],
   "source": [
    "import numpy as np  # library to handle data in a vectorized manner\n",
    "import pandas as pd # library for data analysis\n",
    "import json         # library to handle JSON files\n",
    "from bs4 import BeautifulSoup\n",
    "import requests     # library to handle requests\n",
    "# tranforming json file into a pandas dataframe library\n",
    "from pandas.io.json import json_normalize\n",
    "from geopy.geocoders import Nominatim # convert an address into latitude and longitude values\n",
    "import folium # map rendering library\n",
    "import time\n",
    "import re"
   ]
  },
  {
   "cell_type": "code",
   "execution_count": 2,
   "metadata": {},
   "outputs": [],
   "source": [
    "# Get Juarez boroughs source \n",
    "boroughs_url = 'https://micodigopostal.org/chihuahua/juarez/'\n",
    "data = requests.get(boroughs_url)\n",
    "boroughs = BeautifulSoup(data.content, 'lxml')\n",
    "boroughs = boroughs.find_all('table')[0]"
   ]
  },
  {
   "cell_type": "code",
   "execution_count": 3,
   "metadata": {},
   "outputs": [],
   "source": [
    "# List the Juarez boroughs\n",
    "\n",
    "boroughs_list = []\n",
    "for bor in boroughs.find_all('tbody')[0].find_all('tr'):\n",
    "    try:\n",
    "        boroughs_list.append(bor.find_all('td')[0].find_all('a')[0].contents[0])\n",
    "    except:\n",
    "        continue\n"
   ]
  },
  {
   "cell_type": "code",
   "execution_count": 4,
   "metadata": {},
   "outputs": [
    {
     "data": {
      "text/plain": [
       "1071"
      ]
     },
     "execution_count": 4,
     "metadata": {},
     "output_type": "execute_result"
    }
   ],
   "source": [
    "len(boroughs_list)"
   ]
  },
  {
   "cell_type": "code",
   "execution_count": 233,
   "metadata": {},
   "outputs": [],
   "source": [
    "# Gets Lat and Long from boroughs\n",
    "def getlongLat(borough):\n",
    "    try:\n",
    "        return list(Nominatim(user_agent='my-app').geocode('{},Juarez, Chihuahua'.format(borough)))[-1]\n",
    "    except:\n",
    "        return np.nan"
   ]
  },
  {
   "cell_type": "code",
   "execution_count": 295,
   "metadata": {},
   "outputs": [],
   "source": [
    "df_b = pd.DataFrame(['Minerva', 'Senecú', 'Campestre', 'Nogales', 'Lagos','San Lorenzo', 'Campos Elíseos', 'Campestre', 'Camino Real', 'Bosques del Sol', 'Waterfill', 'Bugambilias', 'Villahermosa', 'Monumental', 'Los Bosques', 'Los Sauces', 'Alameda', 'Américas', 'Antares'])\n",
    "df_b = df_b.rename(columns={0:\"boroughs\"})"
   ]
  },
  {
   "cell_type": "code",
   "execution_count": 296,
   "metadata": {},
   "outputs": [],
   "source": [
    "df_b['lat_long'] = df_b['boroughs'].apply(lambda x: getlongLat(x))"
   ]
  },
  {
   "cell_type": "code",
   "execution_count": 297,
   "metadata": {},
   "outputs": [
    {
     "data": {
      "text/html": [
       "<div>\n",
       "<style scoped>\n",
       "    .dataframe tbody tr th:only-of-type {\n",
       "        vertical-align: middle;\n",
       "    }\n",
       "\n",
       "    .dataframe tbody tr th {\n",
       "        vertical-align: top;\n",
       "    }\n",
       "\n",
       "    .dataframe thead th {\n",
       "        text-align: right;\n",
       "    }\n",
       "</style>\n",
       "<table border=\"1\" class=\"dataframe\">\n",
       "  <thead>\n",
       "    <tr style=\"text-align: right;\">\n",
       "      <th></th>\n",
       "      <th>boroughs</th>\n",
       "      <th>lat_long</th>\n",
       "    </tr>\n",
       "  </thead>\n",
       "  <tbody>\n",
       "    <tr>\n",
       "      <th>0</th>\n",
       "      <td>Minerva</td>\n",
       "      <td>(31.7253053, -106.4345394)</td>\n",
       "    </tr>\n",
       "    <tr>\n",
       "      <th>1</th>\n",
       "      <td>Senecú</td>\n",
       "      <td>(31.7127726, -106.4051706)</td>\n",
       "    </tr>\n",
       "    <tr>\n",
       "      <th>2</th>\n",
       "      <td>Campestre</td>\n",
       "      <td>(31.7176118, -106.4114476)</td>\n",
       "    </tr>\n",
       "    <tr>\n",
       "      <th>3</th>\n",
       "      <td>Nogales</td>\n",
       "      <td>(31.5863277, -106.4822321)</td>\n",
       "    </tr>\n",
       "    <tr>\n",
       "      <th>4</th>\n",
       "      <td>Lagos</td>\n",
       "      <td>(31.423753, -106.472610911083)</td>\n",
       "    </tr>\n",
       "    <tr>\n",
       "      <th>5</th>\n",
       "      <td>San Lorenzo</td>\n",
       "      <td>(31.7394918, -106.4249645)</td>\n",
       "    </tr>\n",
       "    <tr>\n",
       "      <th>7</th>\n",
       "      <td>Campestre</td>\n",
       "      <td>(31.7176118, -106.4114476)</td>\n",
       "    </tr>\n",
       "    <tr>\n",
       "      <th>8</th>\n",
       "      <td>Camino Real</td>\n",
       "      <td>(31.7137484, -106.4132479)</td>\n",
       "    </tr>\n",
       "    <tr>\n",
       "      <th>12</th>\n",
       "      <td>Villahermosa</td>\n",
       "      <td>(31.7183447, -106.4321065)</td>\n",
       "    </tr>\n",
       "    <tr>\n",
       "      <th>13</th>\n",
       "      <td>Monumental</td>\n",
       "      <td>(31.7355212, -106.444169788586)</td>\n",
       "    </tr>\n",
       "    <tr>\n",
       "      <th>14</th>\n",
       "      <td>Los Bosques</td>\n",
       "      <td>(19.407428, -99.235789)</td>\n",
       "    </tr>\n",
       "    <tr>\n",
       "      <th>17</th>\n",
       "      <td>Américas</td>\n",
       "      <td>(31.74103205, -106.45136956788)</td>\n",
       "    </tr>\n",
       "    <tr>\n",
       "      <th>18</th>\n",
       "      <td>Antares</td>\n",
       "      <td>(31.6441024, -106.3487243)</td>\n",
       "    </tr>\n",
       "  </tbody>\n",
       "</table>\n",
       "</div>"
      ],
      "text/plain": [
       "        boroughs                         lat_long\n",
       "0        Minerva       (31.7253053, -106.4345394)\n",
       "1         Senecú       (31.7127726, -106.4051706)\n",
       "2      Campestre       (31.7176118, -106.4114476)\n",
       "3        Nogales       (31.5863277, -106.4822321)\n",
       "4          Lagos   (31.423753, -106.472610911083)\n",
       "5    San Lorenzo       (31.7394918, -106.4249645)\n",
       "7      Campestre       (31.7176118, -106.4114476)\n",
       "8    Camino Real       (31.7137484, -106.4132479)\n",
       "12  Villahermosa       (31.7183447, -106.4321065)\n",
       "13    Monumental  (31.7355212, -106.444169788586)\n",
       "14   Los Bosques          (19.407428, -99.235789)\n",
       "17      Américas  (31.74103205, -106.45136956788)\n",
       "18       Antares       (31.6441024, -106.3487243)"
      ]
     },
     "execution_count": 297,
     "metadata": {},
     "output_type": "execute_result"
    }
   ],
   "source": [
    "df_b = df_b.dropna()\n",
    "df_b"
   ]
  },
  {
   "cell_type": "code",
   "execution_count": 124,
   "metadata": {},
   "outputs": [],
   "source": [
    "#FOURSQUARE API CONNECTION\n",
    "CLIENT_ID='LEOE4LM4RHRHZYYVCXRTYY5XLUBBKHZMEOAM42KN50ATXWAH'\n",
    "CLIENT_SECRET='STKIXKKRK3FJ4BNLEJ4E55YZ0A4IMSF35GMVMSCRJAU4E4JN'\n",
    "VERSION = '20190203' \n",
    "RADIUS = 1000 \n",
    "LIMIT = 100\n",
    "VENUE = 'bar'"
   ]
  },
  {
   "cell_type": "code",
   "execution_count": 125,
   "metadata": {},
   "outputs": [],
   "source": [
    "def getVenues(lat, long):\n",
    "    url = 'https://api.foursquare.com/v2/venues/explore?&client_id={}&client_secret={}&v={}&ll={},{}&radius={}&limit={}'.format(\n",
    "                CLIENT_ID, \n",
    "                CLIENT_SECRET, \n",
    "                VERSION, \n",
    "                lat, \n",
    "                long, \n",
    "                RADIUS, \n",
    "                LIMIT)\n",
    "    return requests.get(url).json()[\"response\"]['groups'][0]['items']"
   ]
  },
  {
   "cell_type": "code",
   "execution_count": 298,
   "metadata": {},
   "outputs": [],
   "source": [
    "venue_list = []"
   ]
  },
  {
   "cell_type": "code",
   "execution_count": 299,
   "metadata": {},
   "outputs": [],
   "source": [
    "def setCompetitionVenues(venue):\n",
    "    if('café' in venue['venue']['name'].lower()):\n",
    "        popularity = False\n",
    "        if('is popular' in venue['reasons']['items'][0]['summary'].lower()):\n",
    "            popularity = True\n",
    "        return list([venue['venue']['location']['lat'], venue['venue']['location']['lng'], popularity, venue['venue']['name']])"
   ]
  },
  {
   "cell_type": "code",
   "execution_count": 300,
   "metadata": {},
   "outputs": [],
   "source": [
    "for name, lat_long in zip(df_b['boroughs'], df_b['lat_long']):\n",
    "    results = getVenues(lat_long[0], lat_long[1])\n",
    "    for venue in results:\n",
    "        result = setCompetitionVenues(venue)\n",
    "        try:\n",
    "            venue_list.append([name, result[0], result[1], result[2], result[3]])\n",
    "        except:\n",
    "            continue"
   ]
  },
  {
   "cell_type": "code",
   "execution_count": 301,
   "metadata": {},
   "outputs": [
    {
     "data": {
      "text/html": [
       "<div>\n",
       "<style scoped>\n",
       "    .dataframe tbody tr th:only-of-type {\n",
       "        vertical-align: middle;\n",
       "    }\n",
       "\n",
       "    .dataframe tbody tr th {\n",
       "        vertical-align: top;\n",
       "    }\n",
       "\n",
       "    .dataframe thead th {\n",
       "        text-align: right;\n",
       "    }\n",
       "</style>\n",
       "<table border=\"1\" class=\"dataframe\">\n",
       "  <thead>\n",
       "    <tr style=\"text-align: right;\">\n",
       "      <th></th>\n",
       "      <th>0</th>\n",
       "      <th>1</th>\n",
       "      <th>2</th>\n",
       "      <th>3</th>\n",
       "      <th>4</th>\n",
       "    </tr>\n",
       "  </thead>\n",
       "  <tbody>\n",
       "    <tr>\n",
       "      <th>0</th>\n",
       "      <td>Minerva</td>\n",
       "      <td>31.731173</td>\n",
       "      <td>-106.438157</td>\n",
       "      <td>True</td>\n",
       "      <td>Café -Teatro Telón de Arena</td>\n",
       "    </tr>\n",
       "    <tr>\n",
       "      <th>1</th>\n",
       "      <td>San Lorenzo</td>\n",
       "      <td>31.738569</td>\n",
       "      <td>-106.426478</td>\n",
       "      <td>True</td>\n",
       "      <td>Juaritoz Café</td>\n",
       "    </tr>\n",
       "    <tr>\n",
       "      <th>2</th>\n",
       "      <td>Monumental</td>\n",
       "      <td>31.737472</td>\n",
       "      <td>-106.448619</td>\n",
       "      <td>True</td>\n",
       "      <td>Café Único</td>\n",
       "    </tr>\n",
       "    <tr>\n",
       "      <th>3</th>\n",
       "      <td>Monumental</td>\n",
       "      <td>31.731173</td>\n",
       "      <td>-106.438157</td>\n",
       "      <td>True</td>\n",
       "      <td>Café -Teatro Telón de Arena</td>\n",
       "    </tr>\n",
       "    <tr>\n",
       "      <th>4</th>\n",
       "      <td>Los Bosques</td>\n",
       "      <td>19.406960</td>\n",
       "      <td>-99.239033</td>\n",
       "      <td>True</td>\n",
       "      <td>Café Punta del Cielo</td>\n",
       "    </tr>\n",
       "    <tr>\n",
       "      <th>5</th>\n",
       "      <td>Los Bosques</td>\n",
       "      <td>19.402991</td>\n",
       "      <td>-99.242504</td>\n",
       "      <td>True</td>\n",
       "      <td>Cielito Querido Café</td>\n",
       "    </tr>\n",
       "    <tr>\n",
       "      <th>6</th>\n",
       "      <td>Américas</td>\n",
       "      <td>31.737472</td>\n",
       "      <td>-106.448619</td>\n",
       "      <td>True</td>\n",
       "      <td>Café Único</td>\n",
       "    </tr>\n",
       "    <tr>\n",
       "      <th>7</th>\n",
       "      <td>Américas</td>\n",
       "      <td>31.748394</td>\n",
       "      <td>-106.448456</td>\n",
       "      <td>True</td>\n",
       "      <td>MAYA café</td>\n",
       "    </tr>\n",
       "  </tbody>\n",
       "</table>\n",
       "</div>"
      ],
      "text/plain": [
       "             0          1           2     3                            4\n",
       "0      Minerva  31.731173 -106.438157  True  Café -Teatro Telón de Arena\n",
       "1  San Lorenzo  31.738569 -106.426478  True                Juaritoz Café\n",
       "2   Monumental  31.737472 -106.448619  True                   Café Único\n",
       "3   Monumental  31.731173 -106.438157  True  Café -Teatro Telón de Arena\n",
       "4  Los Bosques  19.406960  -99.239033  True         Café Punta del Cielo\n",
       "5  Los Bosques  19.402991  -99.242504  True         Cielito Querido Café\n",
       "6     Américas  31.737472 -106.448619  True                   Café Único\n",
       "7     Américas  31.748394 -106.448456  True                    MAYA café"
      ]
     },
     "execution_count": 301,
     "metadata": {},
     "output_type": "execute_result"
    }
   ],
   "source": [
    "venue_list = pd.DataFrame(venue_list)\n",
    "venue_list"
   ]
  },
  {
   "cell_type": "code",
   "execution_count": 304,
   "metadata": {},
   "outputs": [
    {
     "data": {
      "text/html": [
       "<div style=\"width:100%;\"><div style=\"position:relative;width:100%;height:0;padding-bottom:60%;\"><iframe src=\"data:text/html;charset=utf-8;base64,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\" style=\"position:absolute;width:100%;height:100%;left:0;top:0;border:none !important;\" allowfullscreen webkitallowfullscreen mozallowfullscreen></iframe></div></div>"
      ],
      "text/plain": [
       "<folium.folium.Map at 0x115494748>"
      ]
     },
     "execution_count": 304,
     "metadata": {},
     "output_type": "execute_result"
    }
   ],
   "source": [
    "latitude = 31.7177191\n",
    "longitude = -106.4434673\n",
    "jrz_map = folium.Map(location=[latitude, longitude], zoom_start=12)\n",
    "\n",
    "for name, lat, lng, popular, venue in zip(venue_list[0], venue_list[1], venue_list[2], venue_list[3], venue_list[4]):\n",
    "    \n",
    "    color = 'purple'\n",
    "    \n",
    "    if(popular):\n",
    "        color = 'yellow'\n",
    "    \n",
    "    folium.CircleMarker(\n",
    "        [lat, lng],\n",
    "        radius=5,\n",
    "        popup=venue,\n",
    "        #color=rainbow[int(cluster)-1],\n",
    "        fill=True,\n",
    "        fill_color=color,\n",
    "        fill_opacity=0.7).add_to(jrz_map)\n",
    "\n",
    "\n",
    "jrz_map"
   ]
  },
  {
   "cell_type": "code",
   "execution_count": null,
   "metadata": {},
   "outputs": [],
   "source": []
  }
 ],
 "metadata": {
  "kernelspec": {
   "display_name": "Python 3",
   "language": "python",
   "name": "python3"
  },
  "language_info": {
   "codemirror_mode": {
    "name": "ipython",
    "version": 3
   },
   "file_extension": ".py",
   "mimetype": "text/x-python",
   "name": "python",
   "nbconvert_exporter": "python",
   "pygments_lexer": "ipython3",
   "version": "3.7.0"
  }
 },
 "nbformat": 4,
 "nbformat_minor": 2
}
